{
 "cells": [
  {
   "cell_type": "code",
   "execution_count": 1,
   "metadata": {},
   "outputs": [
    {
     "data": {
      "application/vnd.jupyter.widget-view+json": {
       "model_id": "51a9385651cd48ec8c0821be968a7649",
       "version_major": 2,
       "version_minor": 0
      },
      "text/plain": [
       "Train FR: 0it [00:00, ?it/s]"
      ]
     },
     "metadata": {},
     "output_type": "display_data"
    },
    {
     "data": {
      "application/vnd.jupyter.widget-view+json": {
       "model_id": "e422992c2c7f4850b477868a272053a5",
       "version_major": 2,
       "version_minor": 0
      },
      "text/plain": [
       "Train EN: 0it [00:00, ?it/s]"
      ]
     },
     "metadata": {},
     "output_type": "display_data"
    }
   ],
   "source": [
    "from tqdm.auto import tqdm\n",
    "\n",
    "train_fr, train_en = list(), list()\n",
    "\n",
    "tags = [\"<url>\", \"<description>\", \"<keywords>\", \"<talkid>\", \"<title>\", \"<transcript>\", \"</transcript>\"]\n",
    "\n",
    "with open(\"data/fr-en/train.tags.fr-en.fr\") as f:\n",
    "    pbar = tqdm(f, desc=\"Train FR\", colour=\"green\")\n",
    "    for line in pbar:\n",
    "        \n",
    "        skip = False\n",
    "        for tag in tags:\n",
    "            if tag in line:\n",
    "                skip = True\n",
    "        if skip: continue\n",
    "        train_fr.append(line.strip())\n",
    "\n",
    "with open(\"data/fr-en/train.tags.fr-en.en\") as f:\n",
    "    pbar = tqdm(f, desc=\"Train EN\", colour=\"red\")\n",
    "    for line in pbar:\n",
    "        \n",
    "        skip = False\n",
    "        for tag in tags:\n",
    "            if tag in line:\n",
    "                skip = True\n",
    "        if skip: continue\n",
    "        train_en.append(line.strip())"
   ]
  },
  {
   "cell_type": "code",
   "execution_count": 2,
   "metadata": {},
   "outputs": [
    {
     "data": {
      "text/plain": [
       "(154498, 154498)"
      ]
     },
     "execution_count": 2,
     "metadata": {},
     "output_type": "execute_result"
    }
   ],
   "source": [
    "len(train_fr), len(train_en)"
   ]
  },
  {
   "cell_type": "code",
   "execution_count": 3,
   "metadata": {},
   "outputs": [],
   "source": [
    "with open(\"data/iwslt13.train.fr\", \"w\") as f:\n",
    "    f.write(\"\\n\".join(train_fr))\n",
    "with open(\"data/iwslt13.train.en\", \"w\") as f:\n",
    "    f.write(\"\\n\".join(train_en))"
   ]
  },
  {
   "cell_type": "code",
   "execution_count": 4,
   "metadata": {},
   "outputs": [],
   "source": [
    "import xml.etree.ElementTree as ET"
   ]
  },
  {
   "cell_type": "code",
   "execution_count": 5,
   "metadata": {},
   "outputs": [],
   "source": [
    "def get_sentences_from_xml(xml_file):\n",
    "    tree = ET.parse(xml_file)\n",
    "    xml_root = tree.getroot()\n",
    "    sentences = list()\n",
    "    for doc_node in xml_root[0]:\n",
    "        for child in doc_node:\n",
    "            if child.tag!=\"seg\": continue\n",
    "            sentences.append(child.text)\n",
    "    return sentences"
   ]
  },
  {
   "cell_type": "code",
   "execution_count": 6,
   "metadata": {},
   "outputs": [
    {
     "data": {
      "text/plain": [
       "(887, 887)"
      ]
     },
     "execution_count": 6,
     "metadata": {},
     "output_type": "execute_result"
    }
   ],
   "source": [
    "dev_fr_file = 'data/fr-en/IWSLT13.TED.dev2010.fr-en.fr.xml'\n",
    "dev_en_file = 'data/fr-en/IWSLT13.TED.dev2010.fr-en.en.xml'\n",
    "\n",
    "dev_fr = get_sentences_from_xml(dev_fr_file)\n",
    "dev_en = get_sentences_from_xml(dev_en_file)\n",
    "\n",
    "len(dev_fr), len(dev_en)"
   ]
  },
  {
   "cell_type": "code",
   "execution_count": 7,
   "metadata": {},
   "outputs": [],
   "source": [
    "with open(\"data/iwslt13.dev.fr\", \"w\") as f:\n",
    "    f.write(\"\\n\".join(dev_fr))\n",
    "with open(\"data/iwslt13.dev.en\", \"w\") as f:\n",
    "    f.write(\"\\n\".join(dev_en))"
   ]
  },
  {
   "cell_type": "code",
   "execution_count": 8,
   "metadata": {},
   "outputs": [
    {
     "data": {
      "text/plain": [
       "(1664, 1664)"
      ]
     },
     "execution_count": 8,
     "metadata": {},
     "output_type": "execute_result"
    }
   ],
   "source": [
    "test_fr_file = 'data/fr-en/IWSLT13.TED.tst2010.fr-en.fr.xml'\n",
    "test_en_file = 'data/fr-en/IWSLT13.TED.tst2010.fr-en.en.xml'\n",
    "\n",
    "test_fr = get_sentences_from_xml(test_fr_file)\n",
    "test_en = get_sentences_from_xml(test_en_file)\n",
    "\n",
    "len(test_fr), len(test_en)"
   ]
  },
  {
   "cell_type": "code",
   "execution_count": 9,
   "metadata": {},
   "outputs": [],
   "source": [
    "with open(\"data/iwslt13.test.fr\", \"w\") as f:\n",
    "    f.write(\"\\n\".join(test_fr))\n",
    "with open(\"data/iwslt13.test.en\", \"w\") as f:\n",
    "    f.write(\"\\n\".join(test_en))"
   ]
  }
 ],
 "metadata": {
  "kernelspec": {
   "display_name": "Python 3",
   "language": "python",
   "name": "python3"
  },
  "language_info": {
   "codemirror_mode": {
    "name": "ipython",
    "version": 3
   },
   "file_extension": ".py",
   "mimetype": "text/x-python",
   "name": "python",
   "nbconvert_exporter": "python",
   "pygments_lexer": "ipython3",
   "version": "3.10.11"
  }
 },
 "nbformat": 4,
 "nbformat_minor": 4
}
